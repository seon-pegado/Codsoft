{
 "cells": [
  {
   "cell_type": "markdown",
   "id": "032a699c",
   "metadata": {},
   "source": [
    "# Task 1 : CHATBOT WITH RULE-BASED RESPONSES\n",
    "\n",
    "Build a simple chatbot that responds to user inputs based on\n",
    "predefined rules. Use if-else statements or pattern matching\n",
    "techniques to identify user queries and provide appropriate\n",
    "responses. This will give you a basic understanding of natural\n",
    "language processing and conversation flow.\n",
    "\n"
   ]
  },
  {
   "cell_type": "code",
   "execution_count": 1,
   "id": "736901e2",
   "metadata": {},
   "outputs": [],
   "source": [
    "def answers(user_chat):\n",
    "    \n",
    "    user_chat = user_chat.lower()\n",
    "    \n",
    "    if \"hello\" in user_chat or \"hi\" in user_chat:\n",
    "        return \"Hello there! How can I assist you today?\"\n",
    "        \n",
    "    elif \"how's life going?\" in user_chat or \"how are you?\" in user_chat:\n",
    "        return \"I'm just a ChatBot, so I don't have personal experiences or emotions. Is there anything else I can help you with?\"\n",
    "    \n",
    "    elif \"what do you study?\" in user_chat or \"what's your expertise?\" in user_chat:\n",
    "        return  \"I specialize in processing and providing information. Feel free to ask me questions on a wide range of topics.\"\n",
    "    \n",
    "    elif \"explain artificial intelligence\" in user_chat or 'what is ai?' in user_chat:\n",
    "        return \"AI, or Artificial Intelligence, is the development of computer systems that can perform tasks typically requiring human intelligence, such as learning from data and making decisions based on it, solving complex problems, and understanding natural language. It encompasses machine learning, deep learning, and various other technologies with applications across diverse industries.\"\n",
    "    \n",
    "    elif \"what is machine learning?\" in user_chat or \"what is ml?\" in user_chat:\n",
    "        return 'Machine Learning (ML) is a subset of AI that involves the development of algorithms and models that enable computers to learn from and make predictions or decisions based on data, without being explicitly programmed for specific tasks. ML is widely used in applications such as data analysis, pattern recognition, and predictive modeling.'\n",
    "    \n",
    "    elif 'what is the capital of india?' in user_chat:\n",
    "        return 'The Capital of India is New Delhi'\n",
    "    \n",
    "    elif \"today's weather\" in user_chat :\n",
    "        return \"I'm sorry, but I don't have access to real-time data or the internet to provide current weather information. Please check a weather website or use a weather app for the most up-to-date weather forecast in your area.\"\n",
    "    \n",
    "    elif \"what is e-waste?\" in user_chat or \"what is electronic waste?\" in user_chat:\n",
    "        return \"E-waste, or electronic waste, refers to discarded electrical or electronic devices, including obsolete or broken equipment such as computers, smartphones, and appliances. Improper disposal of e-waste can pose environmental and health risks due to the toxic materials contained in these devices.\"\n",
    "    \n",
    "    elif 'tell me a joke' in user_chat:\n",
    "        return \"Why did the scarecrow win an award?\\nBecause he was outstanding in his field! 😄\"\n",
    "    \n",
    "    elif 'best programming language to learn in 2023' in user_chat:\n",
    "        return \"The best Programming Language to learn in 2023 are :\\n\\n1) Python: an open-sourced, general-purpose programming language that is easy to learn and widely used for data science, web development, and automation.\\n\\n2)Javascript: a dynamically typed and interpreted scripting language that is essential for building interactive and dynamic web pages and applications.\\n\\n3)Java: a compiled, object-oriented, and platform-independent programming language that is popular for enterprise applications, web development, and Android development.\"\n",
    "    \n",
    "    else:\n",
    "        return \"I apologize, but I don't have the information you're looking for. Is there anything else I can assist you with, or would you like to ask a different question?\"\n"
   ]
  },
  {
   "cell_type": "code",
   "execution_count": 3,
   "id": "3fce6abb",
   "metadata": {},
   "outputs": [
    {
     "name": "stdout",
     "output_type": "stream",
     "text": [
      "<----- WELCOME TO AnswerBot ----->\n",
      "Feel free to ask anything\n",
      "\n",
      "\n",
      "You: hello\n",
      "AnswerBot: Hello there! How can I assist you today?\n",
      "\n",
      "\n",
      "You: What do you study?\n",
      "AnswerBot: I specialize in processing and providing information. Feel free to ask me questions on a wide range of topics.\n",
      "\n",
      "\n",
      "You: What is E-waste?\n",
      "AnswerBot: E-waste, or electronic waste, refers to discarded electrical or electronic devices, including obsolete or broken equipment such as computers, smartphones, and appliances. Improper disposal of e-waste can pose environmental and health risks due to the toxic materials contained in these devices.\n",
      "\n",
      "\n",
      "You: Tell me a joke\n",
      "AnswerBot: Why did the scarecrow win an award?\n",
      "Because he was outstanding in his field! 😄\n",
      "\n",
      "\n",
      "You: best programming to learn in 2023\n",
      "AnswerBot: I apologize, but I don't have the information you're looking for. Is there anything else I can assist you with, or would you like to ask a different question?\n",
      "\n",
      "\n",
      "You: best programming language to learn in 2023\n",
      "AnswerBot: The best Programming Language to learn in 2023 are :\n",
      "\n",
      "1) Python: an open-sourced, general-purpose programming language that is easy to learn and widely used for data science, web development, and automation.\n",
      "\n",
      "2)Javascript: a dynamically typed and interpreted scripting language that is essential for building interactive and dynamic web pages and applications.\n",
      "\n",
      "3)Java: a compiled, object-oriented, and platform-independent programming language that is popular for enterprise applications, web development, and Android development.\n",
      "\n",
      "\n",
      "You: bye\n",
      "AnswerBot: Goodbye. Have a nice day!!!\n"
     ]
    }
   ],
   "source": [
    "print('<----- WELCOME TO AnswerBot ----->')\n",
    "print('Feel free to ask anything')\n",
    "print('\\n')\n",
    "while True:\n",
    "    user_chat =input('You: ')\n",
    "    if(user_chat.lower() == 'bye'):\n",
    "        print(\"AnswerBot: Goodbye. Have a nice day!!!\")\n",
    "        break\n",
    "    ans = answers(user_chat)\n",
    "    print(f'AnswerBot: {ans}')\n",
    "    print('\\n')"
   ]
  },
  {
   "cell_type": "code",
   "execution_count": null,
   "id": "f9a243c5",
   "metadata": {},
   "outputs": [],
   "source": []
  }
 ],
 "metadata": {
  "kernelspec": {
   "display_name": "Python 3 (ipykernel)",
   "language": "python",
   "name": "python3"
  },
  "language_info": {
   "codemirror_mode": {
    "name": "ipython",
    "version": 3
   },
   "file_extension": ".py",
   "mimetype": "text/x-python",
   "name": "python",
   "nbconvert_exporter": "python",
   "pygments_lexer": "ipython3",
   "version": "3.11.5"
  }
 },
 "nbformat": 4,
 "nbformat_minor": 5
}
